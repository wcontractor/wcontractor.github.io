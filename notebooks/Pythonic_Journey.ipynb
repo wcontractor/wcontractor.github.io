{
 "cells": [
  {
   "cell_type": "markdown",
   "metadata": {},
   "source": [
    "Title: A Pythonic Journey\n",
    "Slug: python-learning\n",
    "Date: 2017-10-14 19:17 \n",
    "Category: Python\n",
    "Tags: Python, Learning, MOOC, Books\n",
    "Author: Wahid Contractor\n",
    "Summary: A learning journey of thinking pythonically and growing skill development skill sets\n",
    "\n"
   ]
  },
  {
   "cell_type": "markdown",
   "metadata": {},
   "source": [
    "##  Background\n",
    "\n",
    "One of the great things about Python is the ease of access to learning from traditional books and online materials and websites. Here is the path that I have been on for the better part of year.  "
   ]
  },
  {
   "cell_type": "markdown",
   "metadata": {},
   "source": [
    "## Current Course\n",
    "[Harvard CS109](http://cs109.github.io/2015/) is a great course to learn more about Data Science the supporting methods of data engineering, data analysis, data visualization.  Taking this course not only broadens your knowledge of Python, but teaches you good patterns for implementing the tools and solving real world problems.  I would **highly** recommend this one.  The lectures and labs are available online from Harvard, but the homeworks were only posted for the 2013 course. \n",
    "\n",
    ">This course introduces methods for five key facets of an investigation: data wrangling, cleaning, and sampling to get a suitable data set; data management to be able to access big data quickly and reliably; exploratory data analysis to generate hypotheses and intuition; prediction based on statistical methods such as regression and classification; and communication of results through visualization, stories, and interpretable summaries."
   ]
  },
  {
   "cell_type": "markdown",
   "metadata": {
    "collapsed": true
   },
   "source": [
    "## Massive Open Online Courses(MOOCs)\n",
    "\n",
    "- Coursera: [Python for Everybody - A 5 part specialization](https://www.coursera.org/specializations/python)\n",
    "\n",
    "This Coursera course is touch by Dr. Charles Severance from the University of Michigan and is based on the book Python for Informatics.  This is a great place to start your journey in Python.  The course covers the basics from syntax and data dtypes to conditionals.  If you are new to programming or Python I would **highly** recommend starting here.  Ther are some data types like tuples and patterns like how to iterate over a dictionary that you can use over and over again in your journey.  This course also covers some advanced topics like how to work with an API and write data to a SQLite database.\n",
    "\n",
    "- Coursera: [Introduction to Python in Data Analysis](https://www.coursera.org/learn/python-data-analysis/)\n",
    "\n",
    "Although this course is titled introduction, it is certainly not an introductory course.  You should have a firm grasp of working with data, cleaning data, and processing data prior to taking this.  The best part of this course were the latter weeks where the statistical concepts where introduced.  Using Python and Pandas to summarize the data and perform more complex operations like t-tests. \n",
    "\n",
    "\n",
    "- Udacity: [Programming Foundations with Python](https://classroom.udacity.com/courses/ud036)\n",
    "\n",
    "Once you have the basics under your belt this is a good second step.  It follows a use case style approach and has a heavy emphasis on building your code using functions for repeatabilty and extensibility.  \n",
    "\n",
    "\n",
    "- edX: [Using Python for Research](https://courses.edx.org/courses/course-v1:HarvardX+PH526x+3T2016/course/)\n",
    "\n",
    "This edX course is one of the first courses I took that really emphasised the algorithms and math used in Data Science.  After a couple of weeks of introducing some basic concepts and the numpy library it dives into uses cases such as translating a DNA sequence and doing a correlation of whiskey based on their flavor profile. \n",
    "\n",
    "\n",
    "Not directly related to Data Science or Machine Learning, but courses that get back to the fun!\n",
    "- Coursera: [An Introduction to Interactive Programming in Python (Part 1)](https://www.coursera.org/learn/interactive-python-1)\n",
    "- Coursera: [An Introduction to Interactive Programming in Python (Part 2)](https://www.coursera.org/learn/interactive-python-2)\n",
    "\n",
    "## Books and other Learning Material\n",
    "\n",
    "[Python for Informatics](http://py4inf.com/book.php/) - This is the book the Coursea Course Python for Everybody uses.\n",
    "\n",
    "\n",
    "[Think Python 2e](http://greenteapress.com/wp/think-python-2e/) - How to Think Like a Computer Scientist \n",
    "\n",
    "Anaconda - Open Data Science Platform - [Download](https://www.continuum.io/anaconda-overview)\n",
    "\n",
    "A few words about markdown - [Using GitHub Flavored Markdown](https://guides.github.com/features/mastering-markdown/)\n",
    "\n"
   ]
  },
  {
   "cell_type": "markdown",
   "metadata": {},
   "source": [
    "## Future Courses\n",
    "\n",
    "- Coursera: Machine Learning 5 Part Specialization Created by The University of Washington\n",
    "- https://www.coursera.org/learn/ml-foundations/home/welcome Machine Learning Foundations: A Case Study Approach\n",
    "- https://www.coursera.org/learn/ml-regression Machine Learning: Regression\n",
    "- https://www.coursera.org/learn/ml-classification Machine Learning: Classification\n",
    "- https://www.coursera.org/learn/ml-clustering-and-retrieval Machine Learning: Clustering & Retrieval\n",
    "\n",
    "\n",
    "Andrew Ng's course built the cirriculum for teaching Machine Learning. https://www.coursera.org/learn/machine-learning\n",
    "\n",
    "> In this module, we introduce the core idea of teaching a computer to learn concepts using data—without being explicitly programmed. "
   ]
  }
 ],
 "metadata": {
  "kernelspec": {
   "display_name": "Python 3",
   "language": "python",
   "name": "python3"
  },
  "language_info": {
   "codemirror_mode": {
    "name": "ipython",
    "version": 3
   },
   "file_extension": ".py",
   "mimetype": "text/x-python",
   "name": "python",
   "nbconvert_exporter": "python",
   "pygments_lexer": "ipython3",
   "version": "3.5.3"
  }
 },
 "nbformat": 4,
 "nbformat_minor": 2
}
